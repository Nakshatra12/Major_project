{
 "cells": [
  {
   "cell_type": "code",
   "execution_count": 1,
   "id": "01014a06-3fb7-4fca-b1b5-528395269ace",
   "metadata": {},
   "outputs": [
    {
     "name": "stdout",
     "output_type": "stream",
     "text": [
      "<class 'int'>\n",
      "<class 'int'>\n",
      "<class 'float'>\n"
     ]
    }
   ],
   "source": [
    "a=10\n",
    "b=35\n",
    "c=10.0\n",
    "print(type(a))\n",
    "print(type(b))\n",
    "print(type(c))"
   ]
  },
  {
   "cell_type": "code",
   "execution_count": 2,
   "id": "d125a345-5249-4619-9144-14e371c4503e",
   "metadata": {},
   "outputs": [
    {
     "name": "stdout",
     "output_type": "stream",
     "text": [
      "8\n",
      "8\n",
      "8\n"
     ]
    }
   ],
   "source": [
    "a=8.5\n",
    "b=8.4\n",
    "c=8.99\n",
    "print(int(a))\n",
    "print(int(b))\n",
    "print(int(c))"
   ]
  },
  {
   "cell_type": "code",
   "execution_count": 3,
   "id": "24f4a1e3-96ae-4b90-9507-a4fc846f1b48",
   "metadata": {},
   "outputs": [
    {
     "data": {
      "text/plain": [
       "float"
      ]
     },
     "execution_count": 3,
     "metadata": {},
     "output_type": "execute_result"
    }
   ],
   "source": [
    "type(a)"
   ]
  },
  {
   "cell_type": "code",
   "execution_count": 4,
   "id": "e00caa71-31b5-4525-b094-6ec1e439eaf4",
   "metadata": {},
   "outputs": [
    {
     "name": "stdout",
     "output_type": "stream",
     "text": [
      "10.0\n",
      "-20.0\n",
      "100.0\n"
     ]
    }
   ],
   "source": [
    "a=10\n",
    "b=-20\n",
    "c=100\n",
    "print(float(a))\n",
    "print(float(b))\n",
    "print(float(c))"
   ]
  },
  {
   "cell_type": "code",
   "execution_count": 5,
   "id": "6946b2c2-a539-4bef-9f39-d77e12413634",
   "metadata": {},
   "outputs": [
    {
     "name": "stdout",
     "output_type": "stream",
     "text": [
      "<class 'int'>\n",
      "<class 'int'>\n",
      "<class 'int'>\n"
     ]
    }
   ],
   "source": [
    "print(type(a))\n",
    "print(type(b))\n",
    "print(type(c))"
   ]
  },
  {
   "cell_type": "code",
   "execution_count": 6,
   "id": "c6c9afb0-8c43-421b-954b-cad2a69d18df",
   "metadata": {},
   "outputs": [
    {
     "data": {
      "text/plain": [
       "3.14"
      ]
     },
     "execution_count": 6,
     "metadata": {},
     "output_type": "execute_result"
    }
   ],
   "source": [
    "round(3.14159,2)"
   ]
  },
  {
   "cell_type": "code",
   "execution_count": 7,
   "id": "51248bb9-c49e-4a6e-b952-2db8426d0523",
   "metadata": {},
   "outputs": [
    {
     "data": {
      "text/plain": [
       "-22.89"
      ]
     },
     "execution_count": 7,
     "metadata": {},
     "output_type": "execute_result"
    }
   ],
   "source": [
    "round(-22.8894,2)"
   ]
  },
  {
   "cell_type": "code",
   "execution_count": 8,
   "id": "f87d17f1-0ea0-4503-9095-29ec928df1b6",
   "metadata": {},
   "outputs": [
    {
     "data": {
      "text/plain": [
       "100.996"
      ]
     },
     "execution_count": 8,
     "metadata": {},
     "output_type": "execute_result"
    }
   ],
   "source": [
    "round(100.9963,3)"
   ]
  },
  {
   "cell_type": "code",
   "execution_count": 9,
   "id": "819c4d29-6621-4860-af7e-ce73df8ee9e1",
   "metadata": {},
   "outputs": [
    {
     "data": {
      "text/plain": [
       "66.9"
      ]
     },
     "execution_count": 9,
     "metadata": {},
     "output_type": "execute_result"
    }
   ],
   "source": [
    "round(66.88,1)"
   ]
  },
  {
   "cell_type": "code",
   "execution_count": 10,
   "id": "e8591281-7172-48a4-bc02-d294414cc5af",
   "metadata": {},
   "outputs": [
    {
     "data": {
      "text/plain": [
       "33.5"
      ]
     },
     "execution_count": 10,
     "metadata": {},
     "output_type": "execute_result"
    }
   ],
   "source": [
    "abs(-33.5)"
   ]
  },
  {
   "cell_type": "code",
   "execution_count": 11,
   "id": "ecaf109d-6371-4a99-9221-d6498717763e",
   "metadata": {},
   "outputs": [
    {
     "data": {
      "text/plain": [
       "88.2"
      ]
     },
     "execution_count": 11,
     "metadata": {},
     "output_type": "execute_result"
    }
   ],
   "source": [
    "abs(88.2)"
   ]
  },
  {
   "cell_type": "code",
   "execution_count": 12,
   "id": "1779e988-6a49-40f8-9990-2236b8583a5d",
   "metadata": {},
   "outputs": [
    {
     "data": {
      "text/plain": [
       "99"
      ]
     },
     "execution_count": 12,
     "metadata": {},
     "output_type": "execute_result"
    }
   ],
   "source": [
    "abs(99)"
   ]
  },
  {
   "cell_type": "code",
   "execution_count": 13,
   "id": "75f5c32f-9220-4a3c-9208-a668159756e7",
   "metadata": {},
   "outputs": [
    {
     "data": {
      "text/plain": [
       "104.5"
      ]
     },
     "execution_count": 13,
     "metadata": {},
     "output_type": "execute_result"
    }
   ],
   "source": [
    "abs(104.5)"
   ]
  },
  {
   "cell_type": "code",
   "execution_count": 14,
   "id": "723970fd-e7dd-415b-b298-0a4ba5bda914",
   "metadata": {},
   "outputs": [
    {
     "data": {
      "text/plain": [
       "8"
      ]
     },
     "execution_count": 14,
     "metadata": {},
     "output_type": "execute_result"
    }
   ],
   "source": [
    "pow(2,3)"
   ]
  },
  {
   "cell_type": "code",
   "execution_count": 15,
   "id": "7aa34f6f-2084-4cdf-9890-41ba7bdceb15",
   "metadata": {},
   "outputs": [],
   "source": [
    "list1=[]"
   ]
  },
  {
   "cell_type": "code",
   "execution_count": 16,
   "id": "a3ec412b-883c-4e3c-abdf-218ca47b1cf4",
   "metadata": {},
   "outputs": [
    {
     "data": {
      "text/plain": [
       "list"
      ]
     },
     "execution_count": 16,
     "metadata": {},
     "output_type": "execute_result"
    }
   ],
   "source": [
    "type(list1)"
   ]
  },
  {
   "cell_type": "code",
   "execution_count": 17,
   "id": "ce3af294-4224-44b7-b59a-693ab5ade39c",
   "metadata": {},
   "outputs": [
    {
     "data": {
      "text/plain": [
       "4"
      ]
     },
     "execution_count": 17,
     "metadata": {},
     "output_type": "execute_result"
    }
   ],
   "source": [
    "len([1,2,3,4])"
   ]
  },
  {
   "cell_type": "code",
   "execution_count": 18,
   "id": "11ef818e-dd77-481d-a519-a048bc6958f8",
   "metadata": {},
   "outputs": [
    {
     "name": "stdout",
     "output_type": "stream",
     "text": [
      "4\n"
     ]
    }
   ],
   "source": [
    "print(len([1,2,3,4]))"
   ]
  },
  {
   "cell_type": "code",
   "execution_count": 19,
   "id": "cecae4ec-6ac5-4fd6-8bf7-8b7f734dc517",
   "metadata": {},
   "outputs": [
    {
     "data": {
      "text/plain": [
       "[1, 2, 3, 4, 5]"
      ]
     },
     "execution_count": 19,
     "metadata": {},
     "output_type": "execute_result"
    }
   ],
   "source": [
    "[1,2,3]+[4,5]"
   ]
  },
  {
   "cell_type": "code",
   "execution_count": 20,
   "id": "56bc9ebf-13a4-4911-9d9c-b76e3a2f7584",
   "metadata": {},
   "outputs": [
    {
     "data": {
      "text/plain": [
       "[1, 2, 3, 1, 2, 3]"
      ]
     },
     "execution_count": 20,
     "metadata": {},
     "output_type": "execute_result"
    }
   ],
   "source": [
    "[1,2,3]*2"
   ]
  },
  {
   "cell_type": "code",
   "execution_count": 21,
   "id": "cb7463e4-a72b-4d43-8791-5362a9193fec",
   "metadata": {},
   "outputs": [
    {
     "name": "stdout",
     "output_type": "stream",
     "text": [
      "4.44\n"
     ]
    }
   ],
   "source": [
    "a=8.88\n",
    "b=2.88\n",
    "d=int(b)\n",
    "c=8.88/d\n",
    "print(c)"
   ]
  },
  {
   "cell_type": "code",
   "execution_count": 22,
   "id": "2b048dff-3b26-42e8-b6d4-4ac9c5d0195a",
   "metadata": {},
   "outputs": [
    {
     "name": "stdout",
     "output_type": "stream",
     "text": [
      "[1, 2, 3, 10]\n"
     ]
    }
   ],
   "source": [
    "l1=[1,2,3]\n",
    "l1.append(10)\n",
    "print(l1)"
   ]
  },
  {
   "cell_type": "code",
   "execution_count": 23,
   "id": "71f5773d-f6eb-4a16-bb69-ac50a1eb56a6",
   "metadata": {},
   "outputs": [
    {
     "name": "stdout",
     "output_type": "stream",
     "text": [
      "[1, 5, 2, 3]\n"
     ]
    }
   ],
   "source": [
    "l1=[1,2,3]\n",
    "l1.insert(1,5)\n",
    "print(l1)"
   ]
  },
  {
   "cell_type": "code",
   "execution_count": 24,
   "id": "5f886f8e-fdd3-474e-a3cc-f1de2aac435c",
   "metadata": {},
   "outputs": [],
   "source": [
    "#append\n",
    "l1=[1,2,3]\n",
    "l1.append(2)"
   ]
  },
  {
   "cell_type": "code",
   "execution_count": 25,
   "id": "d944f1f0-d65b-438b-a712-5609f8f5e313",
   "metadata": {},
   "outputs": [
    {
     "name": "stdout",
     "output_type": "stream",
     "text": [
      "[1, 2, 3, 2]\n"
     ]
    }
   ],
   "source": [
    "print(l1)"
   ]
  },
  {
   "cell_type": "code",
   "execution_count": 26,
   "id": "1143ad72-25e1-4595-a6dc-739ff4de8ec6",
   "metadata": {},
   "outputs": [
    {
     "name": "stdout",
     "output_type": "stream",
     "text": [
      "[1, 2, 3, 'apple']\n"
     ]
    }
   ],
   "source": [
    "#extend\n",
    "l1=[1,2,3]\n",
    "l2=['apple']\n",
    "l1.extend(l2)\n",
    "print(l1)"
   ]
  },
  {
   "cell_type": "code",
   "execution_count": 27,
   "id": "0b6fac65-8bba-4772-885e-98844ab37abe",
   "metadata": {},
   "outputs": [],
   "source": [
    "#remove\n",
    "l1=[1,2,3,4,5,3]\n",
    "l1.remove(3)"
   ]
  },
  {
   "cell_type": "code",
   "execution_count": 28,
   "id": "ed4ad21c-7cde-42c1-87e5-0b0186f9caca",
   "metadata": {},
   "outputs": [
    {
     "name": "stdout",
     "output_type": "stream",
     "text": [
      "[1, 2, 4, 5, 3]\n"
     ]
    }
   ],
   "source": [
    "print(l1)"
   ]
  },
  {
   "cell_type": "code",
   "execution_count": 29,
   "id": "0c777c1f-72c8-487a-93d3-5046b4f42404",
   "metadata": {},
   "outputs": [
    {
     "data": {
      "text/plain": [
       "3"
      ]
     },
     "execution_count": 29,
     "metadata": {},
     "output_type": "execute_result"
    }
   ],
   "source": [
    "#last element\n",
    "l1[-1]"
   ]
  },
  {
   "cell_type": "code",
   "execution_count": 30,
   "id": "9cbb6d1e-cd6b-4201-a4f6-9c875cf1637f",
   "metadata": {},
   "outputs": [],
   "source": [
    "l1=[1,2,3,4,5]\n",
    "l1.reverse()"
   ]
  },
  {
   "cell_type": "code",
   "execution_count": 31,
   "id": "ae0d3044-27db-46a3-91f6-b21f301bf34c",
   "metadata": {},
   "outputs": [
    {
     "name": "stdout",
     "output_type": "stream",
     "text": [
      "[5, 4, 3, 2, 1]\n"
     ]
    }
   ],
   "source": [
    "print(l1)"
   ]
  },
  {
   "cell_type": "code",
   "execution_count": 32,
   "id": "81c4d592-992b-447d-b967-0917bb6266ec",
   "metadata": {},
   "outputs": [
    {
     "data": {
      "text/plain": [
       "[2, 3, 4, 5]"
      ]
     },
     "execution_count": 32,
     "metadata": {},
     "output_type": "execute_result"
    }
   ],
   "source": [
    "#list slicing\n",
    "l1=[1,2,3,4,5]\n",
    "l1[1:5]"
   ]
  },
  {
   "cell_type": "code",
   "execution_count": 33,
   "id": "3aee5612-97df-41f0-be88-cde8e0ea1a9b",
   "metadata": {},
   "outputs": [
    {
     "data": {
      "text/plain": [
       "[1, 2, 3, 4, 5]"
      ]
     },
     "execution_count": 33,
     "metadata": {},
     "output_type": "execute_result"
    }
   ],
   "source": [
    " l1[0:5]"
   ]
  },
  {
   "cell_type": "code",
   "execution_count": 34,
   "id": "e366695b-aba5-44e1-8404-c1f6ef881314",
   "metadata": {},
   "outputs": [],
   "source": [
    "#remove all elements\n",
    "l1.clear()"
   ]
  },
  {
   "cell_type": "code",
   "execution_count": 35,
   "id": "ec7b972e-8450-46ff-b77f-ec9aeb2abf98",
   "metadata": {},
   "outputs": [
    {
     "name": "stdout",
     "output_type": "stream",
     "text": [
      "[]\n"
     ]
    }
   ],
   "source": [
    "print(l1)"
   ]
  },
  {
   "cell_type": "code",
   "execution_count": 36,
   "id": "837b46b7-3ced-4b3b-b575-b63a54b818dc",
   "metadata": {},
   "outputs": [
    {
     "name": "stdout",
     "output_type": "stream",
     "text": [
      "[1, 2, 1, 99]\n"
     ]
    }
   ],
   "source": [
    "l1=[1,2,1,99]\n",
    "print(l1)"
   ]
  },
  {
   "cell_type": "code",
   "execution_count": 37,
   "id": "76350fd2-1023-4c97-b4e2-9fb79aaae93f",
   "metadata": {},
   "outputs": [],
   "source": [
    "l1.sort(reverse=True)"
   ]
  },
  {
   "cell_type": "code",
   "execution_count": 38,
   "id": "c123253f-5dd2-48d7-aff0-74d9f2b33e45",
   "metadata": {},
   "outputs": [
    {
     "name": "stdout",
     "output_type": "stream",
     "text": [
      "[99, 2, 1, 1]\n"
     ]
    }
   ],
   "source": [
    "print(l1)"
   ]
  },
  {
   "cell_type": "code",
   "execution_count": 39,
   "id": "fd8cf829-3f18-40a6-bc7c-6a22b370005a",
   "metadata": {},
   "outputs": [
    {
     "data": {
      "text/plain": [
       "6.666666666666667"
      ]
     },
     "execution_count": 39,
     "metadata": {},
     "output_type": "execute_result"
    }
   ],
   "source": [
    "20/3"
   ]
  },
  {
   "cell_type": "code",
   "execution_count": 40,
   "id": "978527e0-600b-41a0-a27a-7040bd75e91d",
   "metadata": {},
   "outputs": [
    {
     "data": {
      "text/plain": [
       "6"
      ]
     },
     "execution_count": 40,
     "metadata": {},
     "output_type": "execute_result"
    }
   ],
   "source": [
    "20//3"
   ]
  },
  {
   "cell_type": "code",
   "execution_count": 41,
   "id": "84d6128f-0402-4412-9f41-d99391a8ee46",
   "metadata": {},
   "outputs": [],
   "source": [
    "complex=3+3j"
   ]
  },
  {
   "cell_type": "code",
   "execution_count": 42,
   "id": "f44b0ac0-b788-4cfb-a808-51c4ee8b0732",
   "metadata": {},
   "outputs": [
    {
     "name": "stdout",
     "output_type": "stream",
     "text": [
      "(3+3j)\n"
     ]
    }
   ],
   "source": [
    "print(complex)"
   ]
  },
  {
   "cell_type": "code",
   "execution_count": 43,
   "id": "6a19388c-7fb7-4fc1-9512-c3b44c08029f",
   "metadata": {},
   "outputs": [
    {
     "data": {
      "text/plain": [
       "0"
      ]
     },
     "execution_count": 43,
     "metadata": {},
     "output_type": "execute_result"
    }
   ],
   "source": [
    "s1='Python Programming'\n",
    "s1.find('Python')"
   ]
  },
  {
   "cell_type": "code",
   "execution_count": 44,
   "id": "010a3979-c58f-474d-87c0-03d2f059ddf0",
   "metadata": {},
   "outputs": [
    {
     "data": {
      "text/plain": [
       "'Python'"
      ]
     },
     "execution_count": 44,
     "metadata": {},
     "output_type": "execute_result"
    }
   ],
   "source": [
    "s1[0:6]"
   ]
  },
  {
   "cell_type": "code",
   "execution_count": 45,
   "id": "b864d6d7-895f-46a7-87a9-c14bdcedea9a",
   "metadata": {},
   "outputs": [
    {
     "data": {
      "text/plain": [
       "'IAnepO'"
      ]
     },
     "execution_count": 45,
     "metadata": {},
     "output_type": "execute_result"
    }
   ],
   "source": [
    "s='OpenAI'\n",
    "s[::-1]"
   ]
  },
  {
   "cell_type": "code",
   "execution_count": 46,
   "id": "807c0c09-676a-4124-8942-c141ea1642ff",
   "metadata": {},
   "outputs": [
    {
     "data": {
      "text/plain": [
       "5"
      ]
     },
     "execution_count": 46,
     "metadata": {},
     "output_type": "execute_result"
    }
   ],
   "source": [
    "\"Data Analysis with Pandas\".count('a')"
   ]
  },
  {
   "cell_type": "code",
   "execution_count": 47,
   "id": "26e407d7-e6ed-4a4a-bfdb-42d7d51699d7",
   "metadata": {},
   "outputs": [
    {
     "data": {
      "text/plain": [
       "8"
      ]
     },
     "execution_count": 47,
     "metadata": {},
     "output_type": "execute_result"
    }
   ],
   "source": [
    "s='machine learning and AI'\n",
    "s.find('learning')"
   ]
  },
  {
   "cell_type": "code",
   "execution_count": 48,
   "id": "0ef6a0b5-c94d-4d03-ade5-4364df4d77bb",
   "metadata": {},
   "outputs": [
    {
     "data": {
      "text/plain": [
       "'Machine_Learning_Model'"
      ]
     },
     "execution_count": 48,
     "metadata": {},
     "output_type": "execute_result"
    }
   ],
   "source": [
    "s='Machine Learning Model'\n",
    "s.replace(' ','_')"
   ]
  },
  {
   "cell_type": "code",
   "execution_count": 49,
   "id": "d2751821-a4f7-42f6-8b8f-75e8e024c18b",
   "metadata": {},
   "outputs": [
    {
     "data": {
      "text/plain": [
       "30"
      ]
     },
     "execution_count": 49,
     "metadata": {},
     "output_type": "execute_result"
    }
   ],
   "source": [
    "l1=[10,20,30,40,50]\n",
    "l1.pop(2)"
   ]
  },
  {
   "cell_type": "code",
   "execution_count": 50,
   "id": "6b579d69-52b5-417c-aad7-7bbc5f3aaec4",
   "metadata": {},
   "outputs": [
    {
     "data": {
      "text/plain": [
       "3"
      ]
     },
     "execution_count": 50,
     "metadata": {},
     "output_type": "execute_result"
    }
   ],
   "source": [
    "l1.index(50)"
   ]
  },
  {
   "cell_type": "code",
   "execution_count": 51,
   "id": "95d82372-9609-4a99-9e43-f0d895ca346d",
   "metadata": {},
   "outputs": [
    {
     "data": {
      "text/plain": [
       "2"
      ]
     },
     "execution_count": 51,
     "metadata": {},
     "output_type": "execute_result"
    }
   ],
   "source": [
    "l1=[1,2,2,3]\n",
    "l1.count(2)"
   ]
  },
  {
   "cell_type": "code",
   "execution_count": 52,
   "id": "f893c0f3-013f-422d-8981-e362d48fe8db",
   "metadata": {},
   "outputs": [
    {
     "data": {
      "text/plain": [
       "[[0, 0, 0], [0, 0, 0]]"
      ]
     },
     "execution_count": 52,
     "metadata": {},
     "output_type": "execute_result"
    }
   ],
   "source": [
    "[[0]*3]*2"
   ]
  },
  {
   "cell_type": "code",
   "execution_count": 53,
   "id": "62384e5e-1eab-467f-88bd-fcc71083b4bb",
   "metadata": {},
   "outputs": [],
   "source": [
    "l1=[1,2,3,4]\n",
    "l2=l1.copy()"
   ]
  },
  {
   "cell_type": "code",
   "execution_count": 54,
   "id": "ad4a247b-2fd3-404d-b543-1e37d91d86f7",
   "metadata": {},
   "outputs": [
    {
     "name": "stdout",
     "output_type": "stream",
     "text": [
      "[1, 2, 3, 4]\n"
     ]
    }
   ],
   "source": [
    "print(l2)"
   ]
  },
  {
   "cell_type": "code",
   "execution_count": 55,
   "id": "139e4c4a-9a56-4d9f-be02-656686e4f69d",
   "metadata": {},
   "outputs": [],
   "source": [
    "list1=[1,2]\n",
    "list2=list1\n",
    "list2.append(3)"
   ]
  },
  {
   "cell_type": "code",
   "execution_count": 56,
   "id": "707d01c2-f144-4ff6-a624-a184ef96b95f",
   "metadata": {},
   "outputs": [
    {
     "data": {
      "text/plain": [
       "[1, 2, 3]"
      ]
     },
     "execution_count": 56,
     "metadata": {},
     "output_type": "execute_result"
    }
   ],
   "source": [
    "list1"
   ]
  },
  {
   "cell_type": "code",
   "execution_count": 57,
   "id": "a664fed2-804d-4e4b-ab97-ee2186a3b8c4",
   "metadata": {},
   "outputs": [
    {
     "name": "stdout",
     "output_type": "stream",
     "text": [
      "[1, 2, 3, 'apple', 'ball']\n"
     ]
    }
   ],
   "source": [
    "l1=[1,2,3]\n",
    "l2=['apple','ball']\n",
    "l1.extend(l2)\n",
    "print(l1)"
   ]
  },
  {
   "cell_type": "code",
   "execution_count": 58,
   "id": "0d14d4d2-aab6-4924-92ec-965ae189d258",
   "metadata": {},
   "outputs": [],
   "source": [
    "#calculator"
   ]
  },
  {
   "cell_type": "code",
   "execution_count": 59,
   "id": "9f2d94c3-c851-4524-bb73-eb2806cb3aaf",
   "metadata": {},
   "outputs": [
    {
     "data": {
      "text/plain": [
       "3"
      ]
     },
     "execution_count": 59,
     "metadata": {},
     "output_type": "execute_result"
    }
   ],
   "source": [
    "str=\"Python Programming Language\"\n",
    "str.count('a')"
   ]
  },
  {
   "cell_type": "code",
   "execution_count": 60,
   "id": "43453f20-0cdf-4ffb-83fc-50555c88736c",
   "metadata": {},
   "outputs": [
    {
     "data": {
      "text/plain": [
       "0"
      ]
     },
     "execution_count": 60,
     "metadata": {},
     "output_type": "execute_result"
    }
   ],
   "source": [
    "str.find('Python')"
   ]
  },
  {
   "cell_type": "code",
   "execution_count": 61,
   "id": "57259330-981d-4002-9676-c656d2864cc9",
   "metadata": {},
   "outputs": [
    {
     "data": {
      "text/plain": [
       "['Python Programming Language']"
      ]
     },
     "execution_count": 61,
     "metadata": {},
     "output_type": "execute_result"
    }
   ],
   "source": [
    "str.split(',')"
   ]
  },
  {
   "cell_type": "code",
   "execution_count": 62,
   "id": "008468d9-04f8-40f3-9272-bf3d89b2779a",
   "metadata": {},
   "outputs": [],
   "source": [
    "str2=\" \".join(str)"
   ]
  },
  {
   "cell_type": "code",
   "execution_count": 63,
   "id": "5b3c9343-3d09-461d-b69c-18bbfc57fb98",
   "metadata": {},
   "outputs": [
    {
     "data": {
      "text/plain": [
       "'P y t h o n   P r o g r a m m i n g   L a n g u a g e'"
      ]
     },
     "execution_count": 63,
     "metadata": {},
     "output_type": "execute_result"
    }
   ],
   "source": [
    "str2"
   ]
  },
  {
   "cell_type": "code",
   "execution_count": 64,
   "id": "57f11f57-424b-4901-8a0f-18e7dc7c3162",
   "metadata": {},
   "outputs": [
    {
     "data": {
      "text/plain": [
       "'Python_Programming_Language'"
      ]
     },
     "execution_count": 64,
     "metadata": {},
     "output_type": "execute_result"
    }
   ],
   "source": [
    "str.replace(' ','_')"
   ]
  },
  {
   "cell_type": "code",
   "execution_count": 65,
   "id": "6c911c4a-4180-4979-8236-c892cad8a40f",
   "metadata": {},
   "outputs": [
    {
     "name": "stdout",
     "output_type": "stream",
     "text": [
      "Python Programming Language hello\n"
     ]
    }
   ],
   "source": [
    "str1='hello'\n",
    "print(str+' '+str1)"
   ]
  },
  {
   "cell_type": "code",
   "execution_count": 66,
   "id": "9ea73485-78c4-46dd-b48a-3dca87826bfb",
   "metadata": {},
   "outputs": [],
   "source": [
    "#3 lists and perform list methods"
   ]
  },
  {
   "cell_type": "code",
   "execution_count": null,
   "id": "56372857-8fbb-4281-a7d0-c575ef732998",
   "metadata": {},
   "outputs": [],
   "source": []
  }
 ],
 "metadata": {
  "kernelspec": {
   "display_name": "Python 3 (ipykernel)",
   "language": "python",
   "name": "python3"
  },
  "language_info": {
   "codemirror_mode": {
    "name": "ipython",
    "version": 3
   },
   "file_extension": ".py",
   "mimetype": "text/x-python",
   "name": "python",
   "nbconvert_exporter": "python",
   "pygments_lexer": "ipython3",
   "version": "3.12.3"
  }
 },
 "nbformat": 4,
 "nbformat_minor": 5
}
