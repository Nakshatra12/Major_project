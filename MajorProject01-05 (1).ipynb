{
 "cells": [
  {
   "cell_type": "markdown",
   "id": "d85b9db0-1bc7-41c9-9b4e-f48342921c69",
   "metadata": {},
   "source": [
    "### 3rd CLASS"
   ]
  },
  {
   "cell_type": "markdown",
   "id": "5869521d-0905-4f0c-be2c-6516c89af990",
   "metadata": {},
   "source": [
    "#### Tuple"
   ]
  },
  {
   "cell_type": "code",
   "execution_count": 3,
   "id": "11afc683-bf5f-4892-b1fb-0544fe002a16",
   "metadata": {},
   "outputs": [
    {
     "name": "stdout",
     "output_type": "stream",
     "text": [
      "<class 'tuple'>\n",
      "(1, 2, 3, 4, 5, 6)\n"
     ]
    }
   ],
   "source": [
    "tup1=(1,2,3,4,5,6)\n",
    "print(type(tup1))\n",
    "print(tup1)"
   ]
  },
  {
   "cell_type": "code",
   "execution_count": 4,
   "id": "b90e15a6-885a-47fa-aae0-98e8add840f0",
   "metadata": {},
   "outputs": [
    {
     "name": "stdout",
     "output_type": "stream",
     "text": [
      "[1, 2, 3, 4, 5, 6]\n",
      "[1, 2, 3, 4, 5, 6, 7]\n",
      "<class 'tuple'>\n",
      "(1, 2, 3, 4, 5, 6, 7)\n"
     ]
    }
   ],
   "source": [
    "tup1=(1,2,3,4,5,6)\n",
    "tup1=list(tup1)\n",
    "print(tup1)\n",
    "tup1.append(7)\n",
    "print(tup1)\n",
    "tup1=tuple(tup1)\n",
    "print(type(tup1))\n",
    "print(tup1)"
   ]
  },
  {
   "cell_type": "code",
   "execution_count": 5,
   "id": "398f3792-3e05-4267-9d3d-4d1097026660",
   "metadata": {},
   "outputs": [
    {
     "name": "stdout",
     "output_type": "stream",
     "text": [
      "1\n"
     ]
    }
   ],
   "source": [
    "print(tup1.count(1))"
   ]
  },
  {
   "cell_type": "code",
   "execution_count": 6,
   "id": "3bd0cb73-992e-4745-a0d0-a8a8d37f5437",
   "metadata": {},
   "outputs": [
    {
     "name": "stdout",
     "output_type": "stream",
     "text": [
      "3\n"
     ]
    }
   ],
   "source": [
    "print(tup1.index(4))"
   ]
  },
  {
   "cell_type": "code",
   "execution_count": null,
   "id": "102c88fa-4ba5-4603-ba88-112856f1ab74",
   "metadata": {},
   "outputs": [],
   "source": []
  },
  {
   "cell_type": "code",
   "execution_count": null,
   "id": "2cd0ab42-98fb-4262-bf16-c950661f17cc",
   "metadata": {},
   "outputs": [],
   "source": []
  },
  {
   "cell_type": "markdown",
   "id": "46ef5123-4c48-47d5-b34e-30e192bb1832",
   "metadata": {},
   "source": [
    "##### Dictionary"
   ]
  },
  {
   "cell_type": "markdown",
   "id": "0bd67a19-caa4-4e59-aeb8-1e6157a0c5ea",
   "metadata": {},
   "source": [
    "# DICTIONARY"
   ]
  },
  {
   "cell_type": "code",
   "execution_count": 9,
   "id": "a42481aa-cbc5-4e75-942f-46339aaa2ec4",
   "metadata": {},
   "outputs": [
    {
     "name": "stdout",
     "output_type": "stream",
     "text": [
      "dict_keys(['Name', 'age', 'atted'])\n",
      "dict_values([['a', 'b', 'c'], [20, 22, 23], [55, 65, 75]])\n",
      "[20, 22, 23]\n",
      "None\n",
      "['a', 'b', 'c']\n",
      "dict_items([('Name', ['a', 'b', 'c']), ('age', [20, 22, 23]), ('atted', [55, 65, 75])])\n",
      "[20, 22, 23]\n",
      "{'Name': ['a', 'b', 'c'], 'atted': [55, 65, 75]}\n",
      "[55, 65, 75]\n",
      "{'Name': ['a', 'b', 'c']}\n"
     ]
    }
   ],
   "source": [
    "dict1={'Name':['a','b','c'],\n",
    "      'age':[20,22,23],\n",
    "      'atted':[55,65,75]}\n",
    "print(dict1.keys())\n",
    "print(dict1.values())\n",
    "print(dict1.get('age'))\n",
    "print(dict1.get('name'))\n",
    "print(dict1.get('Name'))\n",
    "print(dict1.items())\n",
    "print(dict1.pop('age'))\n",
    "print(dict1)\n",
    "print(dict1.pop('atted'))\n",
    "print(dict1)"
   ]
  },
  {
   "cell_type": "code",
   "execution_count": 10,
   "id": "733f96d1-8d72-4e27-9f4f-f82c2afe6d2a",
   "metadata": {},
   "outputs": [],
   "source": [
    "import numpy as np"
   ]
  },
  {
   "cell_type": "code",
   "execution_count": 11,
   "id": "b679c129-0484-4010-a01e-bc647c355ee5",
   "metadata": {},
   "outputs": [
    {
     "name": "stdout",
     "output_type": "stream",
     "text": [
      "{'Name': ['a', 'b', 'c'], 'age': [20, 22, nan], 'atted': [55, 65, nan], 'Gender': ['M', 'F']}\n"
     ]
    }
   ],
   "source": [
    "dict1={'Name':['a','b','c'],\n",
    "      'age':[20,22,np.nan],\n",
    "      'atted':[55,65,np.nan]}\n",
    "dict1['Gender']=['M','F']\n",
    "print(dict1)"
   ]
  },
  {
   "cell_type": "code",
   "execution_count": 12,
   "id": "5355367c-eacd-452a-b0ad-e30a403816ef",
   "metadata": {},
   "outputs": [],
   "source": [
    "import pandas as pd\n",
    "import numpy as np"
   ]
  },
  {
   "cell_type": "code",
   "execution_count": 13,
   "id": "f0e22127-6362-45e3-a6d8-a73cbf10ac4e",
   "metadata": {},
   "outputs": [
    {
     "data": {
      "text/plain": [
       "{'Name': ['a', 'b', 'c'],\n",
       " 'age': [20, 22, nan],\n",
       " 'atted': [55, 65, nan],\n",
       " 'Gender': ['M', 'F']}"
      ]
     },
     "execution_count": 13,
     "metadata": {},
     "output_type": "execute_result"
    }
   ],
   "source": [
    "dict1"
   ]
  },
  {
   "cell_type": "code",
   "execution_count": 14,
   "id": "2a995509-0c9a-4e5b-bf06-a9141153aca7",
   "metadata": {},
   "outputs": [
    {
     "name": "stdout",
     "output_type": "stream",
     "text": [
      "{'Name': ['a', 'b', 'c'], 'age': [20, 22, nan], 'atted': [55, 65, nan], 'Gender': ['M', 'F', nan]}\n"
     ]
    }
   ],
   "source": [
    "dict1={'Name':['a','b','c'],\n",
    "      'age':[20,22,np.nan],\n",
    "      'atted':[55,65,np.nan]}\n",
    "dict1['Gender']=['M','F',np.nan]\n",
    "print(dict1)"
   ]
  },
  {
   "cell_type": "code",
   "execution_count": 15,
   "id": "e2d821ba-545a-4cbe-a8a3-5d7e0bcadafc",
   "metadata": {},
   "outputs": [
    {
     "data": {
      "text/html": [
       "<div>\n",
       "<style scoped>\n",
       "    .dataframe tbody tr th:only-of-type {\n",
       "        vertical-align: middle;\n",
       "    }\n",
       "\n",
       "    .dataframe tbody tr th {\n",
       "        vertical-align: top;\n",
       "    }\n",
       "\n",
       "    .dataframe thead th {\n",
       "        text-align: right;\n",
       "    }\n",
       "</style>\n",
       "<table border=\"1\" class=\"dataframe\">\n",
       "  <thead>\n",
       "    <tr style=\"text-align: right;\">\n",
       "      <th></th>\n",
       "      <th>Name</th>\n",
       "      <th>age</th>\n",
       "      <th>atted</th>\n",
       "      <th>Gender</th>\n",
       "    </tr>\n",
       "  </thead>\n",
       "  <tbody>\n",
       "    <tr>\n",
       "      <th>0</th>\n",
       "      <td>a</td>\n",
       "      <td>20.0</td>\n",
       "      <td>55.0</td>\n",
       "      <td>M</td>\n",
       "    </tr>\n",
       "    <tr>\n",
       "      <th>1</th>\n",
       "      <td>b</td>\n",
       "      <td>22.0</td>\n",
       "      <td>65.0</td>\n",
       "      <td>F</td>\n",
       "    </tr>\n",
       "    <tr>\n",
       "      <th>2</th>\n",
       "      <td>c</td>\n",
       "      <td>NaN</td>\n",
       "      <td>NaN</td>\n",
       "      <td>NaN</td>\n",
       "    </tr>\n",
       "  </tbody>\n",
       "</table>\n",
       "</div>"
      ],
      "text/plain": [
       "  Name   age  atted Gender\n",
       "0    a  20.0   55.0      M\n",
       "1    b  22.0   65.0      F\n",
       "2    c   NaN    NaN    NaN"
      ]
     },
     "execution_count": 15,
     "metadata": {},
     "output_type": "execute_result"
    }
   ],
   "source": [
    "pd.DataFrame(dict1)"
   ]
  },
  {
   "cell_type": "code",
   "execution_count": 16,
   "id": "d99d04d3-729c-4ab6-88f5-e71681af8346",
   "metadata": {},
   "outputs": [
    {
     "name": "stdout",
     "output_type": "stream",
     "text": [
      "{'Name': ['d', 'e'], 'age': [20, 22, 23], 'atted': [55, 65, 75]}\n"
     ]
    }
   ],
   "source": [
    "dict1={'Name':['a','b','c'],\n",
    "      'age':[20,22,23],\n",
    "      'atted':[55,65,75]}\n",
    "dict1['Name']=['d','e']\n",
    "print(dict1)"
   ]
  },
  {
   "cell_type": "code",
   "execution_count": null,
   "id": "34899189-5705-4b88-9c80-abd7d76ec6d4",
   "metadata": {},
   "outputs": [],
   "source": []
  },
  {
   "cell_type": "markdown",
   "id": "75f3cd57-b333-497a-9494-7eff9e68b5f1",
   "metadata": {},
   "source": [
    "### Boolean"
   ]
  },
  {
   "cell_type": "code",
   "execution_count": 18,
   "id": "1addbfa9-ceee-43f5-bf9f-429363fd1b6a",
   "metadata": {},
   "outputs": [
    {
     "name": "stdout",
     "output_type": "stream",
     "text": [
      "False\n"
     ]
    }
   ],
   "source": [
    "print(3>7)"
   ]
  },
  {
   "cell_type": "code",
   "execution_count": 19,
   "id": "cb1213fd-8866-4146-88cd-10af3b801ab7",
   "metadata": {},
   "outputs": [
    {
     "name": "stdout",
     "output_type": "stream",
     "text": [
      "True\n"
     ]
    }
   ],
   "source": [
    "print(7>2)"
   ]
  },
  {
   "cell_type": "code",
   "execution_count": null,
   "id": "124c33de-2ea2-4a98-aebc-79e3fbf1dc6a",
   "metadata": {},
   "outputs": [],
   "source": []
  },
  {
   "cell_type": "markdown",
   "id": "e7cce413-8800-4aee-9acb-89e472be091e",
   "metadata": {},
   "source": [
    "### Sets"
   ]
  },
  {
   "cell_type": "code",
   "execution_count": 21,
   "id": "ad8174da-1f50-4147-a8a2-d96c52137b3d",
   "metadata": {},
   "outputs": [
    {
     "name": "stdout",
     "output_type": "stream",
     "text": [
      "{1, 'apple', 'cat', 24, (3+4j)}\n"
     ]
    }
   ],
   "source": [
    "#defining set\n",
    "\n",
    "s1={1,24,'apple','cat',3+4j}\n",
    "print(s1)"
   ]
  },
  {
   "cell_type": "code",
   "execution_count": 22,
   "id": "82462020-f961-4974-8b9e-0cf804cd69f7",
   "metadata": {},
   "outputs": [
    {
     "data": {
      "text/plain": [
       "set"
      ]
     },
     "execution_count": 22,
     "metadata": {},
     "output_type": "execute_result"
    }
   ],
   "source": [
    "type(s1)"
   ]
  },
  {
   "cell_type": "code",
   "execution_count": 23,
   "id": "d1fcefb4-4a99-4f31-af37-5a69b9296eec",
   "metadata": {},
   "outputs": [
    {
     "name": "stdout",
     "output_type": "stream",
     "text": [
      "{1, 'apple', 'cat', 24, (3+4j)}\n",
      "{1, 'AIML', 'apple', 'cat', 24, (3+4j)}\n",
      "{'dept', 1, 'AIML', 'apple', 'cat', 24, (3+4j)}\n"
     ]
    }
   ],
   "source": [
    "#adding elements to set1\n",
    "s1={1,24,'apple','cat',3+4j}\n",
    "print(s1)\n",
    "s1.add('AIML')\n",
    "print(s1)\n",
    "s1.add('dept')\n",
    "print(s1)"
   ]
  },
  {
   "cell_type": "code",
   "execution_count": null,
   "id": "34168187-4d12-4e70-ae26-f507ee02382e",
   "metadata": {},
   "outputs": [],
   "source": []
  },
  {
   "cell_type": "code",
   "execution_count": 24,
   "id": "96d95664-3ed0-4002-891b-5a829ef05d11",
   "metadata": {},
   "outputs": [],
   "source": [
    "#clear\n",
    "s1={1,24,'apple','cat',3+4j}\n",
    "s1.clear()"
   ]
  },
  {
   "cell_type": "code",
   "execution_count": 25,
   "id": "f62b4b70-71bd-488a-8f68-9ebb997df3b8",
   "metadata": {},
   "outputs": [
    {
     "name": "stdout",
     "output_type": "stream",
     "text": [
      "set()\n"
     ]
    }
   ],
   "source": [
    "print(s1)"
   ]
  },
  {
   "cell_type": "code",
   "execution_count": 26,
   "id": "a319e231-1867-48b7-acc2-5b163a8daa98",
   "metadata": {},
   "outputs": [
    {
     "name": "stdout",
     "output_type": "stream",
     "text": [
      "{1, 'apple', 24, (3+4j)}\n"
     ]
    }
   ],
   "source": [
    "#removing elements\n",
    "s1={1,24,'apple','cat',3+4j}\n",
    "s1.remove('cat')\n",
    "print(s1)"
   ]
  },
  {
   "cell_type": "code",
   "execution_count": null,
   "id": "683581a2-fe1a-4ee2-a9ee-afc3cc1795e0",
   "metadata": {},
   "outputs": [],
   "source": []
  },
  {
   "cell_type": "code",
   "execution_count": 27,
   "id": "d5c8dc21-062e-49ff-9083-17ed6d4c8101",
   "metadata": {},
   "outputs": [
    {
     "name": "stdout",
     "output_type": "stream",
     "text": [
      "{'apple', 'cat', 24, (3+4j)}\n"
     ]
    }
   ],
   "source": [
    "#pop elements\n",
    "s1={1,24,'apple','cat',3+4j}\n",
    "s1.pop()\n",
    "print(s1)"
   ]
  },
  {
   "cell_type": "code",
   "execution_count": null,
   "id": "aa7379cc-0524-438d-a35e-38a4a8b19982",
   "metadata": {},
   "outputs": [],
   "source": []
  },
  {
   "cell_type": "code",
   "execution_count": 28,
   "id": "0551def1-321a-496d-97ce-df014f2ef988",
   "metadata": {},
   "outputs": [
    {
     "name": "stdout",
     "output_type": "stream",
     "text": [
      "{1, 'AIML', 'DEPT', 'apple', 'cat', 24, 'CSE', (3+4j)}\n"
     ]
    }
   ],
   "source": [
    "#union \n",
    "s1={1,24,'apple','cat',3+4j}\n",
    "s2={'AIML','CSE','DEPT'}\n",
    "print(s1.union(s2))"
   ]
  },
  {
   "cell_type": "code",
   "execution_count": null,
   "id": "2548fed4-e67a-438e-a37b-3b6a76c487ba",
   "metadata": {},
   "outputs": [],
   "source": []
  },
  {
   "cell_type": "code",
   "execution_count": 29,
   "id": "640b48c7-6843-4cc9-b36a-5cf8a8433801",
   "metadata": {},
   "outputs": [
    {
     "name": "stdout",
     "output_type": "stream",
     "text": [
      "{24, 'cat'}\n"
     ]
    }
   ],
   "source": [
    "#intersection\n",
    "s1={1,24,'apple','cat',3+4j}\n",
    "s2={'cat',24,'AIML'}\n",
    "print(s1.intersection(s2))"
   ]
  },
  {
   "cell_type": "code",
   "execution_count": null,
   "id": "27e1f141-ca1d-4608-a200-f3544d85aded",
   "metadata": {},
   "outputs": [],
   "source": []
  },
  {
   "cell_type": "code",
   "execution_count": 30,
   "id": "fff9516a-85c1-4ad6-bfe5-3b49b4458037",
   "metadata": {},
   "outputs": [
    {
     "name": "stdout",
     "output_type": "stream",
     "text": [
      "{1, 'apple', (3+4j)}\n",
      "{'AIML'}\n"
     ]
    }
   ],
   "source": [
    "#difference\n",
    "s1={1,24,'apple','cat',3+4j}\n",
    "s2={'cat',24,'AIML'}\n",
    "print(s1.difference(s2))\n",
    "print(s2.difference(s1))"
   ]
  },
  {
   "cell_type": "code",
   "execution_count": null,
   "id": "0863e110-9eae-41e7-bb45-13b5340809a0",
   "metadata": {},
   "outputs": [],
   "source": []
  },
  {
   "cell_type": "code",
   "execution_count": 31,
   "id": "083b5c30-ea61-46a8-9868-b8b2b8c2a6c3",
   "metadata": {},
   "outputs": [
    {
     "name": "stdout",
     "output_type": "stream",
     "text": [
      "{'AIML', 1, 'apple', (3+4j)}\n"
     ]
    }
   ],
   "source": [
    "#symmetric difference\n",
    "s1={1,24,'apple','cat',3+4j}\n",
    "s2={'cat',24,'AIML'}\n",
    "print(s1.symmetric_difference(s2))"
   ]
  },
  {
   "cell_type": "code",
   "execution_count": null,
   "id": "eb8e9878-4e7f-4916-b82a-5dc83bf78bd7",
   "metadata": {},
   "outputs": [],
   "source": []
  },
  {
   "cell_type": "markdown",
   "id": "e3ea1e0d-dd95-4f37-9c34-d9f27c5ab528",
   "metadata": {},
   "source": [
    "### Slicing in python"
   ]
  },
  {
   "cell_type": "code",
   "execution_count": 33,
   "id": "ca3e2f93-e09c-4446-9a92-dcb28311e90b",
   "metadata": {},
   "outputs": [
    {
     "name": "stdout",
     "output_type": "stream",
     "text": [
      "CSE AIML PYTHON TRAINING\n",
      "CSE AIML PYTHON TRAINING\n",
      "E\n",
      "EI TNRNG\n",
      "GNINIART NOHTYP LMIA ESC\n"
     ]
    }
   ],
   "source": [
    "str='CSE AIML PYTHON TRAINING'\n",
    "print(str[0:25]) #slicing\n",
    "print(str[::])#entire string\n",
    "print(str[2])#index\n",
    "print(str[2:24:3])\n",
    "print(str[::-1])"
   ]
  },
  {
   "cell_type": "code",
   "execution_count": null,
   "id": "9e9b1d9f-9a84-4b31-809e-93b7cca0b417",
   "metadata": {},
   "outputs": [],
   "source": []
  },
  {
   "cell_type": "code",
   "execution_count": 34,
   "id": "e3c373a0-7c31-471d-bfdf-a4954bd539ce",
   "metadata": {},
   "outputs": [
    {
     "name": "stdout",
     "output_type": "stream",
     "text": [
      "[10, 20, 30, 40, 50, 60, 70, 80]\n",
      "[10, 20, 30, 40, 50, 60, 70, 80]\n"
     ]
    }
   ],
   "source": [
    "#list slicing\n",
    "list1=[10,20,30,40,50,60,70,80]\n",
    "print(list1[::])#entire list\n",
    "print(list1)"
   ]
  },
  {
   "cell_type": "code",
   "execution_count": 35,
   "id": "e6c49017-d046-4028-a6c3-8f1a971be187",
   "metadata": {},
   "outputs": [
    {
     "name": "stdout",
     "output_type": "stream",
     "text": [
      "[80, 70, 60, 50, 40, 30, 20, 10]\n"
     ]
    }
   ],
   "source": [
    "print(list1[::-1])"
   ]
  },
  {
   "cell_type": "code",
   "execution_count": 36,
   "id": "370d5a21-0087-4857-a356-24683a67d888",
   "metadata": {},
   "outputs": [
    {
     "name": "stdout",
     "output_type": "stream",
     "text": [
      "[30, 40, 50, 60, 70]\n"
     ]
    }
   ],
   "source": [
    "print(list1[2:7])"
   ]
  },
  {
   "cell_type": "code",
   "execution_count": 37,
   "id": "ff01091c-5c02-4282-b590-2fbb14e9132a",
   "metadata": {},
   "outputs": [
    {
     "name": "stdout",
     "output_type": "stream",
     "text": [
      "[50, 40, 30]\n"
     ]
    }
   ],
   "source": [
    "print(list1[4:1:-1])"
   ]
  },
  {
   "cell_type": "code",
   "execution_count": 38,
   "id": "4cb7c63b-0b96-4a52-b167-f047fcc5bb6c",
   "metadata": {},
   "outputs": [
    {
     "name": "stdout",
     "output_type": "stream",
     "text": [
      "[10]\n"
     ]
    }
   ],
   "source": [
    "print(list1[0:1])"
   ]
  },
  {
   "cell_type": "code",
   "execution_count": null,
   "id": "3ed9fb52-46cb-46c7-aa63-1bd34c2159b2",
   "metadata": {},
   "outputs": [],
   "source": []
  },
  {
   "cell_type": "code",
   "execution_count": 39,
   "id": "ffcb962c-d4ae-49ee-b0f3-813cdcb1be9e",
   "metadata": {},
   "outputs": [],
   "source": [
    "#questions"
   ]
  },
  {
   "cell_type": "code",
   "execution_count": 40,
   "id": "b19e3488-9c0d-41cf-a562-808dac460499",
   "metadata": {},
   "outputs": [
    {
     "name": "stdout",
     "output_type": "stream",
     "text": [
      "(10, 20, 30)\n"
     ]
    }
   ],
   "source": [
    "##create a tuple\n",
    "tup1=(10,20,30)\n",
    "print(tup1)"
   ]
  },
  {
   "cell_type": "code",
   "execution_count": 41,
   "id": "bd7aa8cb-84ae-4501-929d-9625b9f10d80",
   "metadata": {},
   "outputs": [
    {
     "name": "stdout",
     "output_type": "stream",
     "text": [
      "[5, 10, 15, 20]\n",
      "10\n",
      "<class 'tuple'>\n"
     ]
    }
   ],
   "source": [
    "#access tuple elements\n",
    "tup=(5,10,15,20)\n",
    "tup=list(tup)\n",
    "print(tup)\n",
    "print(tup[1])\n",
    "tup=tuple(tup)\n",
    "print(type(tup))"
   ]
  },
  {
   "cell_type": "code",
   "execution_count": 42,
   "id": "36403ac7-a1e5-4dfa-ac18-71c0d9ed8295",
   "metadata": {},
   "outputs": [
    {
     "data": {
      "text/plain": [
       "1"
      ]
     },
     "execution_count": 42,
     "metadata": {},
     "output_type": "execute_result"
    }
   ],
   "source": [
    "tup.index(10)"
   ]
  },
  {
   "cell_type": "code",
   "execution_count": 43,
   "id": "60e35f35-ac4c-49e7-9dbc-7787fa20c79e",
   "metadata": {},
   "outputs": [
    {
     "name": "stdout",
     "output_type": "stream",
     "text": [
      "<class 'tuple'>\n"
     ]
    }
   ],
   "source": [
    "#tup with single value and print its type\n",
    "tup=(100,20)\n",
    "print(type(tup))"
   ]
  },
  {
   "cell_type": "code",
   "execution_count": 44,
   "id": "7fb2432f-a802-4e9e-abac-891adc8454d1",
   "metadata": {},
   "outputs": [
    {
     "name": "stdout",
     "output_type": "stream",
     "text": [
      "[1, 2, 3, 4]\n",
      "<class 'tuple'>\n"
     ]
    }
   ],
   "source": [
    "tup1=(1,2)\n",
    "tup2=(3,4)\n",
    "tup1=list(tup1)\n",
    "tup2=list(tup2)\n",
    "tup1.extend(tup2)\n",
    "print(tup1)\n",
    "tup1=tuple(tup1)\n",
    "tup2=tuple(tup2)\n",
    "print(type(tup1))"
   ]
  },
  {
   "cell_type": "code",
   "execution_count": 45,
   "id": "8e2ea2ae-74b8-471a-ad75-d508e79d5135",
   "metadata": {},
   "outputs": [
    {
     "name": "stdout",
     "output_type": "stream",
     "text": [
      "1\n",
      "2\n",
      "3\n"
     ]
    }
   ],
   "source": [
    "#unpack tuple\n",
    "tup=(1,2,3)\n",
    "a,b,c=tup\n",
    "print(a)\n",
    "print(b)\n",
    "print(c)"
   ]
  },
  {
   "cell_type": "code",
   "execution_count": 46,
   "id": "7cd08ded-a859-477e-849c-65c524fbdab2",
   "metadata": {},
   "outputs": [
    {
     "name": "stdout",
     "output_type": "stream",
     "text": [
      "3\n"
     ]
    }
   ],
   "source": [
    "# count 5 tup1=(5,1,5,2,5)\n",
    "tup1=(5,1,5,2,5)\n",
    "print(tup1.count(5))"
   ]
  },
  {
   "cell_type": "code",
   "execution_count": 47,
   "id": "1409b7bd-a364-48d3-9a76-1b9949f3cf4a",
   "metadata": {},
   "outputs": [
    {
     "name": "stdout",
     "output_type": "stream",
     "text": [
      "2\n"
     ]
    }
   ],
   "source": [
    "#index value of 30 \n",
    "tup1=(10,20,30,40)\n",
    "print(tup1.index(30))"
   ]
  },
  {
   "cell_type": "code",
   "execution_count": 48,
   "id": "2cf15fc8-3f7e-43dc-9687-18eb6ffbed9e",
   "metadata": {},
   "outputs": [
    {
     "name": "stdout",
     "output_type": "stream",
     "text": [
      "(1, 2, 3, 4)\n",
      "<class 'tuple'>\n"
     ]
    }
   ],
   "source": [
    "#list1=[1,2,3,4] into tuple\n",
    "list1=[1,2,3,4]\n",
    "tup=tuple(list1)\n",
    "print(tup)\n",
    "print(type(tup))"
   ]
  },
  {
   "cell_type": "code",
   "execution_count": 49,
   "id": "1aef73c9-07be-44f7-9063-ce95bf3eb9ad",
   "metadata": {},
   "outputs": [
    {
     "name": "stdout",
     "output_type": "stream",
     "text": [
      "0\n"
     ]
    }
   ],
   "source": [
    "#check 25 in tuple\n",
    "tup1=(10,20,30,40)\n",
    "print(tup1.count(25))"
   ]
  },
  {
   "cell_type": "code",
   "execution_count": 50,
   "id": "9b62564f-431e-4bb5-ae94-edf16835260a",
   "metadata": {},
   "outputs": [
    {
     "ename": "TypeError",
     "evalue": "'tuple' object is not callable",
     "output_type": "error",
     "traceback": [
      "\u001b[1;31m---------------------------------------------------------------------------\u001b[0m",
      "\u001b[1;31mTypeError\u001b[0m                                 Traceback (most recent call last)",
      "Cell \u001b[1;32mIn[50], line 2\u001b[0m\n\u001b[0;32m      1\u001b[0m tup1\u001b[38;5;241m=\u001b[39m(\u001b[38;5;241m10\u001b[39m,\u001b[38;5;241m20\u001b[39m,\u001b[38;5;241m30\u001b[39m)\n\u001b[1;32m----> 2\u001b[0m tup(\u001b[38;5;241m1\u001b[39m)\u001b[38;5;241m==\u001b[39m(\u001b[38;5;241m10\u001b[39m)\n",
      "\u001b[1;31mTypeError\u001b[0m: 'tuple' object is not callable"
     ]
    }
   ],
   "source": [
    "tup1=(10,20,30)\n",
    "tup(1)==(10)"
   ]
  },
  {
   "cell_type": "code",
   "execution_count": 51,
   "id": "b68d5527-1bfc-451d-bf69-dd3ebff49abf",
   "metadata": {},
   "outputs": [],
   "source": [
    "#dict with name age and city\n",
    "dict1={'Name':['Star','Sravya','Swetha'],\n",
    "       'age':[20,21,21],\n",
    "       'city':['Mancherial','Mustabad','Husnabad']}"
   ]
  },
  {
   "cell_type": "code",
   "execution_count": 53,
   "id": "f619be5d-cd58-4f4f-b85a-17c2a06da878",
   "metadata": {},
   "outputs": [],
   "source": [
    "import numpy as np"
   ]
  },
  {
   "cell_type": "code",
   "execution_count": 55,
   "id": "042bd12c-9422-4857-a4dd-3a986f0bb19a",
   "metadata": {},
   "outputs": [],
   "source": [
    "import pandas as pd"
   ]
  },
  {
   "cell_type": "code",
   "execution_count": 57,
   "id": "52d251c2-d3a7-4c53-ab5b-1c7d07a88c75",
   "metadata": {},
   "outputs": [
    {
     "data": {
      "text/html": [
       "<div>\n",
       "<style scoped>\n",
       "    .dataframe tbody tr th:only-of-type {\n",
       "        vertical-align: middle;\n",
       "    }\n",
       "\n",
       "    .dataframe tbody tr th {\n",
       "        vertical-align: top;\n",
       "    }\n",
       "\n",
       "    .dataframe thead th {\n",
       "        text-align: right;\n",
       "    }\n",
       "</style>\n",
       "<table border=\"1\" class=\"dataframe\">\n",
       "  <thead>\n",
       "    <tr style=\"text-align: right;\">\n",
       "      <th></th>\n",
       "      <th>Name</th>\n",
       "      <th>age</th>\n",
       "      <th>city</th>\n",
       "    </tr>\n",
       "  </thead>\n",
       "  <tbody>\n",
       "    <tr>\n",
       "      <th>0</th>\n",
       "      <td>Star</td>\n",
       "      <td>20</td>\n",
       "      <td>Mancherial</td>\n",
       "    </tr>\n",
       "    <tr>\n",
       "      <th>1</th>\n",
       "      <td>Sravya</td>\n",
       "      <td>21</td>\n",
       "      <td>Mustabad</td>\n",
       "    </tr>\n",
       "    <tr>\n",
       "      <th>2</th>\n",
       "      <td>Swetha</td>\n",
       "      <td>21</td>\n",
       "      <td>Husnabad</td>\n",
       "    </tr>\n",
       "  </tbody>\n",
       "</table>\n",
       "</div>"
      ],
      "text/plain": [
       "     Name  age        city\n",
       "0    Star   20  Mancherial\n",
       "1  Sravya   21    Mustabad\n",
       "2  Swetha   21    Husnabad"
      ]
     },
     "execution_count": 57,
     "metadata": {},
     "output_type": "execute_result"
    }
   ],
   "source": [
    "#dict into dataframe\n",
    "dict1={'Name':['Star','Sravya','Swetha'],\n",
    "       'age':[20,21,21],\n",
    "       'city':['Mancherial','Mustabad','Husnabad']}\n",
    "pd.DataFrame(dict1)"
   ]
  },
  {
   "cell_type": "code",
   "execution_count": 59,
   "id": "54be6e7f-2125-41b6-a714-3c0e93148503",
   "metadata": {},
   "outputs": [
    {
     "name": "stdout",
     "output_type": "stream",
     "text": [
      "[20, 21, 21]\n"
     ]
    }
   ],
   "source": [
    "#access key age from dict\n",
    "print(dict1.get('age'))"
   ]
  },
  {
   "cell_type": "code",
   "execution_count": 61,
   "id": "81f7f50e-dc4e-456d-a26c-a256a9ec8c21",
   "metadata": {},
   "outputs": [
    {
     "name": "stdout",
     "output_type": "stream",
     "text": [
      "{'Name': ['Star', 'Sravya', 'Swetha'], 'age': [20, 21, 21], 'city': ['Mancherial', 'Mustabad', 'Husnabad'], 'email': ['nakshatras@gmail.com', 'sravya@gmail.com', 'swetha@gmail.com']}\n"
     ]
    }
   ],
   "source": [
    "#add new value\n",
    "dict1={'Name':['Star','Sravya','Swetha'],\n",
    "       'age':[20,21,21],\n",
    "       'city':['Mancherial','Mustabad','Husnabad']}\n",
    "dict1['email']=['nakshatras@gmail.com','sravya@gmail.com','swetha@gmail.com']\n",
    "print(dict1)"
   ]
  },
  {
   "cell_type": "code",
   "execution_count": 63,
   "id": "98c7897d-0d39-46c8-85c0-8e021b20bd41",
   "metadata": {},
   "outputs": [
    {
     "name": "stdout",
     "output_type": "stream",
     "text": [
      "{'Name': ['Star', 'Sravya', 'Swetha'], 'age': [20, 21, 21], 'city': ['Mumbai'], 'email': ['nakshatras@gmail.com', 'sravya@gmail.com', 'swetha@gmail.com']}\n"
     ]
    }
   ],
   "source": [
    "#change city to mumbai\n",
    "dict1['city']=['Mumbai']\n",
    "print(dict1)"
   ]
  },
  {
   "cell_type": "code",
   "execution_count": 67,
   "id": "845f9caf-9897-473a-8738-7584a7767a2a",
   "metadata": {},
   "outputs": [
    {
     "data": {
      "text/plain": [
       "[20, 21, 21]"
      ]
     },
     "execution_count": 67,
     "metadata": {},
     "output_type": "execute_result"
    }
   ],
   "source": [
    "#16.\tRemove the 'age' key\n",
    "dict1.pop('age')"
   ]
  },
  {
   "cell_type": "code",
   "execution_count": 69,
   "id": "a771092c-b6b7-4d29-8b30-2062424cc48e",
   "metadata": {},
   "outputs": [
    {
     "data": {
      "text/plain": [
       "{'Name': ['Star', 'Sravya', 'Swetha'],\n",
       " 'city': ['Mumbai'],\n",
       " 'email': ['nakshatras@gmail.com', 'sravya@gmail.com', 'swetha@gmail.com']}"
      ]
     },
     "execution_count": 69,
     "metadata": {},
     "output_type": "execute_result"
    }
   ],
   "source": [
    "dict1"
   ]
  },
  {
   "cell_type": "code",
   "execution_count": 71,
   "id": "0906d998-b461-4a8b-bddc-17e6495e61d8",
   "metadata": {},
   "outputs": [
    {
     "data": {
      "text/plain": [
       "dict_items([('Name', ['Star', 'Sravya', 'Swetha']), ('city', ['Mumbai']), ('email', ['nakshatras@gmail.com', 'sravya@gmail.com', 'swetha@gmail.com'])])"
      ]
     },
     "execution_count": 71,
     "metadata": {},
     "output_type": "execute_result"
    }
   ],
   "source": [
    "#17.\tprint all key-value pairs in the dictionary.\n",
    "dict1.items()"
   ]
  },
  {
   "cell_type": "code",
   "execution_count": 75,
   "id": "ee34e08e-f585-4a09-94e0-f1e62cccc34c",
   "metadata": {},
   "outputs": [
    {
     "name": "stdout",
     "output_type": "stream",
     "text": [
      "['Star', 'Sravya', 'Swetha']\n",
      "['Mumbai']\n",
      "['nakshatras@gmail.com', 'sravya@gmail.com', 'swetha@gmail.com']\n"
     ]
    }
   ],
   "source": [
    "#19.\tUse .get() to access keys.\n",
    "print(dict1.get('Name'))\n",
    "print(dict1.get('city'))\n",
    "print(dict1.get('email'))"
   ]
  },
  {
   "cell_type": "code",
   "execution_count": 77,
   "id": "b7b3ca26-73d5-453b-87b0-9a1a013a5610",
   "metadata": {},
   "outputs": [
    {
     "name": "stdout",
     "output_type": "stream",
     "text": [
      "None\n"
     ]
    }
   ],
   "source": [
    "#20.\tCheck if the key 'name' exists in the dictionary.\n",
    "print(dict1.get('name'))"
   ]
  },
  {
   "cell_type": "code",
   "execution_count": 87,
   "id": "8341089b-a97a-4506-9c07-ce213fd312c4",
   "metadata": {},
   "outputs": [
    {
     "name": "stdout",
     "output_type": "stream",
     "text": [
      "{'a': 1, 'b': 2}\n"
     ]
    }
   ],
   "source": [
    "#21.\tCreate a dictionary from two lists: ['a', 'b'] and [1, 2].\n",
    "keys=['a','b']\n",
    "values=[1,2]\n",
    "result={}\n",
    "for i in range(len(keys)):\n",
    "    result[keys[i]]=values[i]\n",
    "print(result)"
   ]
  },
  {
   "cell_type": "code",
   "execution_count": 89,
   "id": "2399fa86-667b-4d66-9f2e-4bdd66430a8f",
   "metadata": {},
   "outputs": [],
   "source": [
    "#18.\tMerge two dictionaries: dict1 = {'a':1} and dict2 = {'b':2}.\n",
    "dict1={'a':1}\n",
    "dict2={'b':2}\n",
    "dict1.update(dict2)"
   ]
  },
  {
   "cell_type": "code",
   "execution_count": 91,
   "id": "843d26db-048a-4d32-99c0-94d81864d827",
   "metadata": {},
   "outputs": [
    {
     "data": {
      "text/plain": [
       "{'a': 1, 'b': 2}"
      ]
     },
     "execution_count": 91,
     "metadata": {},
     "output_type": "execute_result"
    }
   ],
   "source": [
    "dict1"
   ]
  },
  {
   "cell_type": "code",
   "execution_count": 93,
   "id": "f80188ce-15cc-4845-9e98-2a425ec69d20",
   "metadata": {},
   "outputs": [
    {
     "data": {
      "text/plain": [
       "{1, 2, 3}"
      ]
     },
     "execution_count": 93,
     "metadata": {},
     "output_type": "execute_result"
    }
   ],
   "source": [
    "#22.\tCreate a set with values: 1, 2, 3, 2, 1 and print it.\n",
    "s1={1,2,3,2,1}\n",
    "s1"
   ]
  },
  {
   "cell_type": "code",
   "execution_count": 95,
   "id": "eeef464d-8fdb-4cad-8be1-baaa9b1d5843",
   "metadata": {},
   "outputs": [],
   "source": [
    "#23.\tAdd 5 to a set {1, 2, 3}.\n",
    "s1.add(5)"
   ]
  },
  {
   "cell_type": "code",
   "execution_count": 97,
   "id": "a34c3c17-747f-4bce-ae63-0c49ee64fb6c",
   "metadata": {},
   "outputs": [
    {
     "data": {
      "text/plain": [
       "{1, 2, 3, 5}"
      ]
     },
     "execution_count": 97,
     "metadata": {},
     "output_type": "execute_result"
    }
   ],
   "source": [
    "s1"
   ]
  },
  {
   "cell_type": "code",
   "execution_count": 99,
   "id": "6a7437fe-a9fb-4967-ae38-a05023087f66",
   "metadata": {},
   "outputs": [
    {
     "data": {
      "text/plain": [
       "{1, 3, 5}"
      ]
     },
     "execution_count": 99,
     "metadata": {},
     "output_type": "execute_result"
    }
   ],
   "source": [
    "#24.\tRemove 2 from the set {1, 2, 3}.\n",
    "s1.remove(2)\n",
    "s1"
   ]
  },
  {
   "cell_type": "code",
   "execution_count": 103,
   "id": "27307a1e-f8d8-480d-89c3-ce572277604c",
   "metadata": {},
   "outputs": [
    {
     "ename": "TypeError",
     "evalue": "unhashable type: 'list'",
     "output_type": "error",
     "traceback": [
      "\u001b[1;31m---------------------------------------------------------------------------\u001b[0m",
      "\u001b[1;31mTypeError\u001b[0m                                 Traceback (most recent call last)",
      "Cell \u001b[1;32mIn[103], line 2\u001b[0m\n\u001b[0;32m      1\u001b[0m \u001b[38;5;66;03m#25.\tTry to add a list [1, 2] to a set and observe the result.\u001b[39;00m\n\u001b[1;32m----> 2\u001b[0m s1\u001b[38;5;241m.\u001b[39madd([\u001b[38;5;241m1\u001b[39m,\u001b[38;5;241m2\u001b[39m])\n\u001b[0;32m      3\u001b[0m s1\n",
      "\u001b[1;31mTypeError\u001b[0m: unhashable type: 'list'"
     ]
    }
   ],
   "source": [
    "#25.\tTry to add a list [1, 2] to a set and observe the result.\n",
    "s1.add([1,2])\n",
    "s1"
   ]
  },
  {
   "cell_type": "code",
   "execution_count": 109,
   "id": "d76dff5b-50bd-457b-974f-d2bac1f0919b",
   "metadata": {},
   "outputs": [
    {
     "data": {
      "text/plain": [
       "{1, 2, 3}"
      ]
     },
     "execution_count": 109,
     "metadata": {},
     "output_type": "execute_result"
    }
   ],
   "source": [
    "#26.\tFind the union of {1, 2} and {2, 3}.\n",
    "s1={1,2}\n",
    "s2={2,3}\n",
    "s1.union(s2)"
   ]
  },
  {
   "cell_type": "code",
   "execution_count": 111,
   "id": "38251298-7670-43cc-b238-ca89ce10051e",
   "metadata": {},
   "outputs": [
    {
     "name": "stdout",
     "output_type": "stream",
     "text": [
      "{2}\n"
     ]
    }
   ],
   "source": [
    "#27.\tFind the intersection of {1, 2, 3} and {2, 4, 5}.\n",
    "s1={1,2,3}\n",
    "s2={2,4,5}\n",
    "print(s1.intersection(s2))"
   ]
  },
  {
   "cell_type": "code",
   "execution_count": 113,
   "id": "24a4f2a9-b779-4216-8f66-0a04db520908",
   "metadata": {},
   "outputs": [
    {
     "data": {
      "text/plain": [
       "True"
      ]
     },
     "execution_count": 113,
     "metadata": {},
     "output_type": "execute_result"
    }
   ],
   "source": [
    "#28.\tCheck if two sets {1, 2} and {2, 1} are equal.\n",
    "{1,2}=={2,1}"
   ]
  },
  {
   "cell_type": "code",
   "execution_count": 115,
   "id": "b0253e98-c687-47b8-8777-c0ce3799612b",
   "metadata": {},
   "outputs": [
    {
     "name": "stdout",
     "output_type": "stream",
     "text": [
      "{1, 2, 3}\n"
     ]
    }
   ],
   "source": [
    "#29.\tUse a set to remove duplicates from a list [1, 2, 2, 3, 3, 3].\n",
    "list=[1,2,2,3,3,3]\n",
    "print(set(list))"
   ]
  },
  {
   "cell_type": "code",
   "execution_count": 117,
   "id": "6f9cf6f4-ac6d-48a4-a0ce-8a1768559f2c",
   "metadata": {},
   "outputs": [
    {
     "data": {
      "text/plain": [
       "True"
      ]
     },
     "execution_count": 117,
     "metadata": {},
     "output_type": "execute_result"
    }
   ],
   "source": [
    "#30.\tCheck if {1, 2} is a subset of {1, 2, 3}.\n",
    "{1,2}.issubset({1,2,3})"
   ]
  },
  {
   "cell_type": "code",
   "execution_count": 119,
   "id": "fbb86fa8-b0ad-44aa-8f49-acce3b9401d6",
   "metadata": {},
   "outputs": [],
   "source": [
    "#31.\tClear all elements from a set and print it.\n",
    "s1={1,2,3,4,5}\n",
    "s1.clear()"
   ]
  },
  {
   "cell_type": "code",
   "execution_count": 121,
   "id": "5b92c22d-45c3-401b-9264-6e4ffc442610",
   "metadata": {},
   "outputs": [
    {
     "data": {
      "text/plain": [
       "set()"
      ]
     },
     "execution_count": 121,
     "metadata": {},
     "output_type": "execute_result"
    }
   ],
   "source": [
    "s1"
   ]
  },
  {
   "cell_type": "code",
   "execution_count": 127,
   "id": "79f875a5-95fc-4db8-9932-e788ed975d2b",
   "metadata": {},
   "outputs": [
    {
     "name": "stdout",
     "output_type": "stream",
     "text": [
      "None\n",
      "{1, 2, 3, 4, 5}\n",
      "None\n",
      "1\n",
      "None\n",
      "{2, 3, 4, 6, 7, 8, 9}\n",
      "set()\n",
      "{2, 3, 4}\n",
      "{2, 3, 4, 6, 7, 8, 9}\n"
     ]
    }
   ],
   "source": [
    "#32.\tMake 3 sets and perform all set operations on it.\n",
    "s1={1,2,3,4,5}\n",
    "s2={4,5,6}\n",
    "s3={6,7,8,9}\n",
    "#add\n",
    "print(s1.add(1))\n",
    "print(s1)\n",
    "#remove\n",
    "print(s1.remove(5))\n",
    "#pop\n",
    "print(s1.pop())\n",
    "#clear\n",
    "print(s2.clear())\n",
    "#union\n",
    "print(s1.union(s3))\n",
    "#intersection\n",
    "print(s1.intersection(s3))\n",
    "#difference\n",
    "print(s1.difference(s3))\n",
    "#symmetric_difference\n",
    "print(s1.symmetric_difference(s3))"
   ]
  },
  {
   "cell_type": "code",
   "execution_count": 129,
   "id": "c483b52c-bc17-4df7-bf42-a2056407fbd5",
   "metadata": {},
   "outputs": [
    {
     "name": "stdout",
     "output_type": "stream",
     "text": [
      "CSE AIML PYTHON TRAINING\n",
      "CSE AIML PYTHON TRAINING\n",
      "E\n",
      "EI TNRNG\n",
      "GNINIART NOHTYP LMIA ESC\n"
     ]
    }
   ],
   "source": [
    "#33.\tTake a string and perform all possible slicing operations(full,reverse,jumps)\n",
    "str='CSE AIML PYTHON TRAINING'\n",
    "print(str[0:25]) #slicing\n",
    "print(str[::])#entire string\n",
    "print(str[2])#index\n",
    "print(str[2:24:3])\n",
    "print(str[::-1])"
   ]
  },
  {
   "cell_type": "code",
   "execution_count": 133,
   "id": "f5e9a165-9dc5-489f-8dd4-8c7ab90bb117",
   "metadata": {},
   "outputs": [
    {
     "name": "stdout",
     "output_type": "stream",
     "text": [
      "[10, 20, 30, 40, 50, 60, 70, 80]\n",
      "[10, 20, 30, 40, 50, 60, 70, 80]\n",
      "[]\n",
      "[80, 70, 60, 50, 40, 30, 20, 10]\n",
      "[30, 40, 50, 60, 70]\n",
      "[10]\n"
     ]
    }
   ],
   "source": [
    "#34.\tTake List and perform all possible slicing operations(full,reverse,jumps)\n",
    "#list slicing\n",
    "list1=[10,20,30,40,50,60,70,80]\n",
    "print(list1[::])#entire list\n",
    "print(list1)\n",
    "print(list1[4:10:-1])\n",
    "print(list1[::-1])\n",
    "print(list1[2:7])\n",
    "print(list1[0:1])"
   ]
  },
  {
   "cell_type": "code",
   "execution_count": 135,
   "id": "a54d3370-6969-416c-bda5-c084c18df708",
   "metadata": {},
   "outputs": [
    {
     "name": "stdout",
     "output_type": "stream",
     "text": [
      "True\n"
     ]
    }
   ],
   "source": [
    "#35.\tAssign a = 5, b = 10. Check if a < b and print the result.\n",
    "a=5\n",
    "b=10\n",
    "print(a<b)"
   ]
  },
  {
   "cell_type": "code",
   "execution_count": 141,
   "id": "19483ec3-2870-4c09-a49e-d313ad3cc6a2",
   "metadata": {},
   "outputs": [
    {
     "name": "stdout",
     "output_type": "stream",
     "text": [
      "False\n",
      "True\n",
      "False\n"
     ]
    }
   ],
   "source": [
    "#36.\tUse bool() on 0, 1, [], '', and print their results.\n",
    "print(bool(0))\n",
    "print(bool(1))\n",
    "print(bool([]))"
   ]
  },
  {
   "cell_type": "code",
   "execution_count": null,
   "id": "e9f176b2-8d92-4cd3-b552-68b501d86b75",
   "metadata": {},
   "outputs": [],
   "source": [
    "#37.\tWrite an if statement that checks if a list is empty.\n",
    "#38.\tUse and, or, not operators with expressions and print results.\n",
    "#39.\tUse is to compare two variables pointing to the same list.\n",
    "#40.\tWrite a function that returns True if a number is even, else False.\n",
    "#41.\tCheck if a string is both not empty and has more than 5 characters.\n",
    "#42.\tCreate a variable flag = True, toggle it using not operator.\n",
    "#43.\tUse a ternary operator to print \"Adult\" if age >= 18 else \"Minor\".\n",
    "#44.\tEvaluate the expression: True and False or True and explain it."
   ]
  }
 ],
 "metadata": {
  "kernelspec": {
   "display_name": "Python 3 (ipykernel)",
   "language": "python",
   "name": "python3"
  },
  "language_info": {
   "codemirror_mode": {
    "name": "ipython",
    "version": 3
   },
   "file_extension": ".py",
   "mimetype": "text/x-python",
   "name": "python",
   "nbconvert_exporter": "python",
   "pygments_lexer": "ipython3",
   "version": "3.12.3"
  }
 },
 "nbformat": 4,
 "nbformat_minor": 5
}
